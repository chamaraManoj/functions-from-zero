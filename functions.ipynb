{
  "nbformat": 4,
  "nbformat_minor": 0,
  "metadata": {
    "colab": {
      "provenance": [],
      "authorship_tag": "ABX9TyOR8zRnxk6Od8J49nRCmRED",
      "include_colab_link": true
    },
    "kernelspec": {
      "name": "python3",
      "display_name": "Python 3"
    },
    "language_info": {
      "name": "python"
    }
  },
  "cells": [
    {
      "cell_type": "markdown",
      "metadata": {
        "id": "view-in-github",
        "colab_type": "text"
      },
      "source": [
        "<a href=\"https://colab.research.google.com/github/chamaraManoj/functions-from-zero/blob/main/functions.ipynb\" target=\"_parent\"><img src=\"https://colab.research.google.com/assets/colab-badge.svg\" alt=\"Open In Colab\"/></a>"
      ]
    },
    {
      "cell_type": "markdown",
      "source": [
        "## Learning statement\n"
      ],
      "metadata": {
        "id": "zb9L_ZyBYdn6"
      }
    },
    {
      "cell_type": "code",
      "source": [
        "def simple():pass"
      ],
      "metadata": {
        "id": "_-iP-sZCYgMh"
      },
      "execution_count": 4,
      "outputs": []
    },
    {
      "cell_type": "code",
      "source": [
        "def simple2():\n",
        "    print(\"Simple2\")"
      ],
      "metadata": {
        "id": "NpX78xV_ibAm"
      },
      "execution_count": 1,
      "outputs": []
    },
    {
      "cell_type": "code",
      "source": [
        "simple2()"
      ],
      "metadata": {
        "colab": {
          "base_uri": "https://localhost:8080/"
        },
        "id": "86vxALO-ifHr",
        "outputId": "50f5d4c7-48e7-4fdd-be77-85488eac7afd"
      },
      "execution_count": 2,
      "outputs": [
        {
          "output_type": "stream",
          "name": "stdout",
          "text": [
            "Simple2\n"
          ]
        }
      ]
    },
    {
      "cell_type": "code",
      "source": [
        "def my_worker(fruit):\n",
        "    statement = f\"My favorite fruit is {fruit}\"\n",
        "    meal ={\n",
        "        \"dinner\":statement\n",
        "    }\n",
        "    return meal"
      ],
      "metadata": {
        "id": "70U4wWiOijMJ"
      },
      "execution_count": 6,
      "outputs": []
    },
    {
      "cell_type": "code",
      "source": [
        "meal = my_worker(\"apple\")"
      ],
      "metadata": {
        "id": "KDzpvtDTi22o"
      },
      "execution_count": 7,
      "outputs": []
    },
    {
      "cell_type": "code",
      "source": [
        "def human(food):\n",
        "    print(f\"My favorite meal is {food}\")\n",
        "    consume = food['dinner']\n",
        "    return consume"
      ],
      "metadata": {
        "id": "WoGDVyT2jJQk"
      },
      "execution_count": 8,
      "outputs": []
    },
    {
      "cell_type": "code",
      "source": [],
      "metadata": {
        "id": "ClueNG0rjYBV"
      },
      "execution_count": null,
      "outputs": []
    }
  ]
}